{
 "cells": [
  {
   "cell_type": "markdown",
   "id": "02f5240a-e773-487c-a562-2027efe70233",
   "metadata": {},
   "source": [
    "IA & Data science (LU3IN0226) -- 2024-2025\n",
    "--------\n",
    "*&copy; Equipe pédagogique: Christophe Marsala, Olivier Schwander, Jean-Noël Vittaut.*\n"
   ]
  },
  {
   "cell_type": "markdown",
   "id": "50018277-b782-446f-9446-0a7163f25315",
   "metadata": {},
   "source": [
    "# Mini-projet final"
   ]
  },
  {
   "cell_type": "markdown",
   "id": "d00a8643-d3b4-42dd-acdf-31e374f15db6",
   "metadata": {},
   "source": [
    "<font size=\"+1\" color=\"RED\">**[Q]**</font> **Indiquer dans la boîte ci-dessous vos noms et prénoms :**"
   ]
  },
  {
   "cell_type": "markdown",
   "id": "4b7f75b3-b8fe-4c1e-a5b4-693fb90bc1c6",
   "metadata": {},
   "source": [
    "Yara Khamis"
   ]
  },
  {
   "cell_type": "markdown",
   "id": "f770d35b-fb4c-42ea-8f57-48921b2b82a5",
   "metadata": {},
   "source": [
    "Ce projet peut être fait en binôme (et c'est fortement conseillé) ou tout seul.\n",
    "\n",
    "Le nom de chaque membre du binôme doit être indiqué, et <u>**un seul rendu sur un des deux comptes Moodle doit être fait**</u>.\n",
    "\n",
    "Les groupes de plus de 2 personnes ne sont pas autorisés.\n",
    "\n",
    "**La dernière séance de TD-TME11 de votre groupe sera réservée pour travailler sur ce mini-projet.**"
   ]
  },
  {
   "cell_type": "markdown",
   "id": "2efc44f2-00f2-4679-b0c1-ea4366a6ad80",
   "metadata": {},
   "source": [
    "<font color=\"RED\" size=\"+1\"><b>[Q]</b></font> **Renommer ce fichier ipython**\n",
    "\n",
    "**Nom à donner au fichier à poster** : *projet-Nom1_Nom2.ipynb* \n",
    "- *Nom1* et *Nom2* : noms des membres du binôme\n",
    "- ne pas compresser ou faire une archive: il faut rendre le fichier ipython tel quel, éventuellement, si vous avez d'autres fichiers vous les rendez séparément.\n",
    "\n",
    "**Le compte-rendu est soumis sur la page Moodle.**"
   ]
  },
  {
   "cell_type": "markdown",
   "id": "dcb05912-5ec9-4635-83b9-f056a3429361",
   "metadata": {},
   "source": [
    "# Projet 2 - avril-mai 2025\n",
    "\n",
    "\n",
    "<font size=\"+1\" color=\"RED\"><b>Date de rendu : au plus tard le lundi 19 mai 2025, avant 11h</b></font>\n",
    "    \n",
    "<b>Attention! le site Moodle ferme à 11h pile !</b> prévoyez de vous y connecter au moins 15mn avant la fermeture...\n",
    "<b>Il n'y aura pas de prolongation possible.</b>\n",
    "\n",
    "Vous devez compléter ce notebook en rajoutant vos expérimentations avec vos algorithmes d'apprentissage sur les données fournies dans le répertoire `data`.\n",
    "\n"
   ]
  },
  {
   "cell_type": "markdown",
   "id": "55ad36e1-f91f-41a8-bea8-da028d30e6c4",
   "metadata": {},
   "source": [
    "## Travail à faire\n",
    "\n",
    "Appliquer les algorithmes d'apprentissage vus en cours sur les données comme décrit ci-dessous afin de mettre en évidence des résultats intéressants.\n",
    "\n",
    "\n",
    "## Compte-rendu demandé\n",
    "Ce qui doit être remis avant la date limite : un fichier archive (`.tar`, `.tgz`, ou `.zip` uniquement) contenant:\n",
    "- ce **notebook** complété. Il doit pouvoir être exécuté sans autre apport (pensez à vous en assurer avant de le rendre). \n",
    "- votre **librairie iads** sous la forme d'une archive avec votre répertoire `iads/` contenant tous les fichiers nécessaires \n",
    "- un **poster** sous la forme d'un fichier PDF dont le nom est de la forme: *tme11-Nom1_Nom2.pdf* qui correspond à un poster décrivant l'ensemble des expérimentations menées et les résultats obtenus.\n",
    "\n",
    "\n",
    "<b>IMPORTANT</b>: \n",
    "- Les <u>fichiers de données ne doivent pas être inclus dans votre archive</u> ! \n",
    "- Pensez à vérifier que votre archive contient bien tous les fichiers demandés et **seulement** les fichiers demandés.\n",
    "- **Tous les fichiers demandés doivent être soumis avant la date limite*, le jour de la soutenance, vous pourrez fournir des versions (légèrement) modifiées.\n",
    "\n",
    "## Soutenance des projets\n",
    "La soutenance aura lieu le <font size=\"+1\" color=\"RED\">**mardi 20 mai 2025**</font>, à partir de 9h. Un ordre de passage ainsi que la salle de TME où aura lieu les soutenances seront affichées sur le Moodle la veille (la remise d'un compte-rendu avant lundi 19 mai 11h est obligatoire pour être autorisé à passer une soutenance).\n",
    "\n",
    "La <b>soutenance est obligatoire</b> : tout projet pour lequel une soutenance n'a pas eu lieu sera noté $0$.\n",
    "\n",
    "Modalités de la soutenance:\n",
    "- durée de la soutenance : 10 mn pour un binôme, 7 mn pour un monôme ;\n",
    "- elle a lieu devant un ordinateur avec le notebook et le poster comme support ;\n",
    "    - elle commence par une rapide présentation des expérimentations réalisées et résultats obtenus (max. 4 à 5mns)\n",
    "    - puis elle se poursuit par des questions posées individuellement aux membres du binômes sur les expériences ou le code python réalisé.\n",
    "- la note de soutenance est individuelle pour chaque membre d'un binôme.\n",
    "\n",
    "\n",
    "**Très important** : les fichiers de données doivent être placés de façon à respecter la structure de fichiers suivante :\n",
    "\n",
    "          --iads/\n",
    "              -- Classifiers.py\n",
    "              -- etc.\n",
    "          -- MiniProjet/\n",
    "              -- ce_notebook.ipynb\n",
    "\n",
    "Les données seront chargées par les commandes de chargement des données fournies dans ce notebook (ci-dessous).\n",
    "\n",
    "Dans le notebook que vous rendrez, le chargement des fichiers de données doit considérer cette arborescence.\n",
    "\n"
   ]
  },
  {
   "cell_type": "code",
   "execution_count": 2,
   "id": "64e0796c-a140-4bbf-a11a-58f40b9e0497",
   "metadata": {},
   "outputs": [
    {
     "name": "stdout",
     "output_type": "stream",
     "text": [
      "The autoreload extension is already loaded. To reload it, use:\n",
      "  %reload_ext autoreload\n"
     ]
    }
   ],
   "source": [
    "# Importation de librairies standards:\n",
    "import numpy as np\n",
    "import pandas as pd\n",
    "import matplotlib.pyplot as plt\n",
    "%matplotlib inline  \n",
    "\n",
    "# un nouvel import utile pour la 3D:\n",
    "from matplotlib import cm\n",
    "\n",
    "# Les instructions suivantes sont TRES utiles pour recharger automatiquement \n",
    "# le code modifié dans les librairies externes\n",
    "%load_ext autoreload\n",
    "%autoreload 2\n",
    "\n",
    "# Pour mesurer le temps\n",
    "import time\n",
    "\n",
    "from sklearn.feature_extraction.text import CountVectorizer\n",
    "\n",
    "# Importation de votre librairie iads:\n",
    "# La ligne suivante permet de préciser le chemin d'accès à la librairie iads\n",
    "import sys\n",
    "sys.path.append('../')   # iads doit être dans le répertoire père du répertoire courant !\n",
    "\n",
    "# Importation de la librairie iads\n",
    "import iads as iads\n",
    "\n",
    "# importation de Classifiers\n",
    "from iads import Classifiers as classif\n",
    "\n",
    "# importation de utils\n",
    "from iads import utils as ut\n",
    "\n",
    "# importation de utils_nettoyage\n",
    "from iads import utils_nettoyage as net\n",
    "\n",
    "# importation de evaluation\n",
    "from iads import evaluation as ev\n",
    "\n",
    "# importation de Clustering\n",
    "from iads import Clustering as clust\n",
    "\n",
    "# commande TRES utile pour recharger automatiquement le code que vous modifiez dans les modules\n",
    "%load_ext autoreload\n",
    "%autoreload 2"
   ]
  },
  {
   "cell_type": "code",
   "execution_count": null,
   "id": "3b405bf1",
   "metadata": {},
   "outputs": [],
   "source": []
  },
  {
   "cell_type": "markdown",
   "id": "ca98bdab-80fe-44a1-8057-d027925d8d0f",
   "metadata": {},
   "source": [
    "## Données pour le projet : 20newsgroups\n",
    "\n",
    "Les données sont fournies dans le fichier CSV `20newsgroups.csv` contenu dans l'archive. Une documentation sur ces données peut être consultée sur la <a href=\"http://qwone.com/~jason/20Newsgroups/\" target=\"NEW\">page ScikitLearn</a>.\n",
    "Ces données sont des dépêches issues de 20 groupes de discussions.\n"
   ]
  },
  {
   "cell_type": "markdown",
   "id": "6a483d33-8e89-4f7c-8525-5dfaae092e86",
   "metadata": {},
   "source": [
    "### Chargement des données"
   ]
  },
  {
   "cell_type": "code",
   "execution_count": 3,
   "id": "49b32889",
   "metadata": {},
   "outputs": [
    {
     "data": {
      "text/html": [
       "<div>\n",
       "<style scoped>\n",
       "    .dataframe tbody tr th:only-of-type {\n",
       "        vertical-align: middle;\n",
       "    }\n",
       "\n",
       "    .dataframe tbody tr th {\n",
       "        vertical-align: top;\n",
       "    }\n",
       "\n",
       "    .dataframe thead th {\n",
       "        text-align: right;\n",
       "    }\n",
       "</style>\n",
       "<table border=\"1\" class=\"dataframe\">\n",
       "  <thead>\n",
       "    <tr style=\"text-align: right;\">\n",
       "      <th></th>\n",
       "      <th>messages</th>\n",
       "      <th>target</th>\n",
       "    </tr>\n",
       "  </thead>\n",
       "  <tbody>\n",
       "    <tr>\n",
       "      <th>0</th>\n",
       "      <td>\\n\\nI am sure some bashers of Pens fans are pr...</td>\n",
       "      <td>10</td>\n",
       "    </tr>\n",
       "    <tr>\n",
       "      <th>1</th>\n",
       "      <td>My brother is in the market for a high-perform...</td>\n",
       "      <td>3</td>\n",
       "    </tr>\n",
       "    <tr>\n",
       "      <th>2</th>\n",
       "      <td>\\n\\n\\n\\n\\tFinally you said what you dream abou...</td>\n",
       "      <td>17</td>\n",
       "    </tr>\n",
       "    <tr>\n",
       "      <th>3</th>\n",
       "      <td>\\nThink!\\n\\nIt's the SCSI card doing the DMA t...</td>\n",
       "      <td>3</td>\n",
       "    </tr>\n",
       "    <tr>\n",
       "      <th>4</th>\n",
       "      <td>1)    I have an old Jasmine drive which I cann...</td>\n",
       "      <td>4</td>\n",
       "    </tr>\n",
       "    <tr>\n",
       "      <th>...</th>\n",
       "      <td>...</td>\n",
       "      <td>...</td>\n",
       "    </tr>\n",
       "    <tr>\n",
       "      <th>18841</th>\n",
       "      <td>DN&gt; From: nyeda@cnsvax.uwec.edu (David Nye)\\nD...</td>\n",
       "      <td>13</td>\n",
       "    </tr>\n",
       "    <tr>\n",
       "      <th>18842</th>\n",
       "      <td>\\nNot in isolated ground recepticles (usually ...</td>\n",
       "      <td>12</td>\n",
       "    </tr>\n",
       "    <tr>\n",
       "      <th>18843</th>\n",
       "      <td>I just installed a DX2-66 CPU in a clone mothe...</td>\n",
       "      <td>3</td>\n",
       "    </tr>\n",
       "    <tr>\n",
       "      <th>18844</th>\n",
       "      <td>\\nWouldn't this require a hyper-sphere.  In 3-...</td>\n",
       "      <td>1</td>\n",
       "    </tr>\n",
       "    <tr>\n",
       "      <th>18845</th>\n",
       "      <td>After a tip from Gary Crum (crum@fcom.cc.utah....</td>\n",
       "      <td>7</td>\n",
       "    </tr>\n",
       "  </tbody>\n",
       "</table>\n",
       "<p>18846 rows × 2 columns</p>\n",
       "</div>"
      ],
      "text/plain": [
       "                                                messages  target\n",
       "0      \\n\\nI am sure some bashers of Pens fans are pr...      10\n",
       "1      My brother is in the market for a high-perform...       3\n",
       "2      \\n\\n\\n\\n\\tFinally you said what you dream abou...      17\n",
       "3      \\nThink!\\n\\nIt's the SCSI card doing the DMA t...       3\n",
       "4      1)    I have an old Jasmine drive which I cann...       4\n",
       "...                                                  ...     ...\n",
       "18841  DN> From: nyeda@cnsvax.uwec.edu (David Nye)\\nD...      13\n",
       "18842  \\nNot in isolated ground recepticles (usually ...      12\n",
       "18843  I just installed a DX2-66 CPU in a clone mothe...       3\n",
       "18844  \\nWouldn't this require a hyper-sphere.  In 3-...       1\n",
       "18845  After a tip from Gary Crum (crum@fcom.cc.utah....       7\n",
       "\n",
       "[18846 rows x 2 columns]"
      ]
     },
     "execution_count": 3,
     "metadata": {},
     "output_type": "execute_result"
    }
   ],
   "source": [
    "newsgroups_df = pd.read_csv(\"data/20newsgroups.csv\")\n",
    "newsgroups_df"
   ]
  },
  {
   "cell_type": "code",
   "execution_count": 4,
   "id": "1567ccd4",
   "metadata": {},
   "outputs": [
    {
     "data": {
      "text/plain": [
       "array([ 0,  1,  2,  3,  4,  5,  6,  7,  8,  9, 10, 11, 12, 13, 14, 15, 16,\n",
       "       17, 18, 19])"
      ]
     },
     "execution_count": 4,
     "metadata": {},
     "output_type": "execute_result"
    }
   ],
   "source": [
    "np.unique(newsgroups_df['target'])"
   ]
  },
  {
   "cell_type": "markdown",
   "id": "d9453549-a545-468d-a0a9-0caa750630ea",
   "metadata": {},
   "source": [
    "### Prétraitement\n",
    "\n",
    "Dans un premier temps, vous devez appliquer les étapes de prétraitements vues dans le TME 6. Pour le nettoyage, la liste des mots inutiles (stopwords) est fournie dans le fichier `stopwords.csv` de l'archive"
   ]
  },
  {
   "cell_type": "code",
   "execution_count": 5,
   "id": "9462a8e5-061c-41ae-ad3e-16a95d84db64",
   "metadata": {},
   "outputs": [
    {
     "data": {
      "text/html": [
       "<div>\n",
       "<style scoped>\n",
       "    .dataframe tbody tr th:only-of-type {\n",
       "        vertical-align: middle;\n",
       "    }\n",
       "\n",
       "    .dataframe tbody tr th {\n",
       "        vertical-align: top;\n",
       "    }\n",
       "\n",
       "    .dataframe thead th {\n",
       "        text-align: right;\n",
       "    }\n",
       "</style>\n",
       "<table border=\"1\" class=\"dataframe\">\n",
       "  <thead>\n",
       "    <tr style=\"text-align: right;\">\n",
       "      <th></th>\n",
       "      <th>stopword</th>\n",
       "    </tr>\n",
       "  </thead>\n",
       "  <tbody>\n",
       "    <tr>\n",
       "      <th>0</th>\n",
       "      <td>a</td>\n",
       "    </tr>\n",
       "    <tr>\n",
       "      <th>1</th>\n",
       "      <td>about</td>\n",
       "    </tr>\n",
       "    <tr>\n",
       "      <th>2</th>\n",
       "      <td>above</td>\n",
       "    </tr>\n",
       "    <tr>\n",
       "      <th>3</th>\n",
       "      <td>after</td>\n",
       "    </tr>\n",
       "    <tr>\n",
       "      <th>4</th>\n",
       "      <td>again</td>\n",
       "    </tr>\n",
       "    <tr>\n",
       "      <th>...</th>\n",
       "      <td>...</td>\n",
       "    </tr>\n",
       "    <tr>\n",
       "      <th>193</th>\n",
       "      <td>you're</td>\n",
       "    </tr>\n",
       "    <tr>\n",
       "      <th>194</th>\n",
       "      <td>yours</td>\n",
       "    </tr>\n",
       "    <tr>\n",
       "      <th>195</th>\n",
       "      <td>yourself</td>\n",
       "    </tr>\n",
       "    <tr>\n",
       "      <th>196</th>\n",
       "      <td>yourselves</td>\n",
       "    </tr>\n",
       "    <tr>\n",
       "      <th>197</th>\n",
       "      <td>you've</td>\n",
       "    </tr>\n",
       "  </tbody>\n",
       "</table>\n",
       "<p>198 rows × 1 columns</p>\n",
       "</div>"
      ],
      "text/plain": [
       "       stopword\n",
       "0             a\n",
       "1         about\n",
       "2         above\n",
       "3         after\n",
       "4         again\n",
       "..          ...\n",
       "193      you're\n",
       "194       yours\n",
       "195    yourself\n",
       "196  yourselves\n",
       "197      you've\n",
       "\n",
       "[198 rows x 1 columns]"
      ]
     },
     "execution_count": 5,
     "metadata": {},
     "output_type": "execute_result"
    }
   ],
   "source": [
    "stop_words_df = pd.read_csv(\"data/stopwords.csv\")\n",
    "stop_words_df"
   ]
  },
  {
   "cell_type": "code",
   "execution_count": 6,
   "id": "a48287b9-4508-4318-b14f-e0a12d4d1ec4",
   "metadata": {},
   "outputs": [],
   "source": [
    "#On transforme la colonne \"stopword\" du dataset en liste et on stocke le resultat dans stopwords_list\n",
    "stopwords_list = stop_words_df['stopword'].tolist()\n",
    "\n",
    "# --- Avec stopwords : version complète ---\n",
    "lesmots_avec_stopwords = []\n",
    "for message in newsgroups_df['messages']:\n",
    "    mots = net.text2vect(str(message), [])  # garder tous les mots\n",
    "    lesmots_avec_stopwords.append(mots)\n",
    "news_avec_stopwords = newsgroups_df.copy()\n",
    "news_avec_stopwords['les_mots'] = lesmots_avec_stopwords\n",
    "\n",
    "# --- Sans stopwords : nettoyage standard ---\n",
    "lesmots_sans_stopwords = []\n",
    "for message in newsgroups_df['messages']:\n",
    "    mots = net.text2vect(str(message), stopwords_list)  # enlever les stopwords\n",
    "    lesmots_sans_stopwords.append(mots)\n",
    "news_sans_stopwords = newsgroups_df.copy()\n",
    "news_sans_stopwords['les_mots'] = lesmots_sans_stopwords\n"
   ]
  },
  {
   "cell_type": "code",
   "execution_count": 7,
   "id": "64e26ade-5c05-43d1-9e10-f4767dd4cce1",
   "metadata": {},
   "outputs": [
    {
     "data": {
      "text/html": [
       "<div>\n",
       "<style scoped>\n",
       "    .dataframe tbody tr th:only-of-type {\n",
       "        vertical-align: middle;\n",
       "    }\n",
       "\n",
       "    .dataframe tbody tr th {\n",
       "        vertical-align: top;\n",
       "    }\n",
       "\n",
       "    .dataframe thead th {\n",
       "        text-align: right;\n",
       "    }\n",
       "</style>\n",
       "<table border=\"1\" class=\"dataframe\">\n",
       "  <thead>\n",
       "    <tr style=\"text-align: right;\">\n",
       "      <th></th>\n",
       "      <th>messages</th>\n",
       "      <th>target</th>\n",
       "      <th>les_mots</th>\n",
       "    </tr>\n",
       "  </thead>\n",
       "  <tbody>\n",
       "    <tr>\n",
       "      <th>0</th>\n",
       "      <td>\\n\\nI am sure some bashers of Pens fans are pr...</td>\n",
       "      <td>10</td>\n",
       "      <td>[i, am, sure, some, bashers, of, pens, fans, a...</td>\n",
       "    </tr>\n",
       "    <tr>\n",
       "      <th>1</th>\n",
       "      <td>My brother is in the market for a high-perform...</td>\n",
       "      <td>3</td>\n",
       "      <td>[my, brother, is, in, the, market, for, a, hig...</td>\n",
       "    </tr>\n",
       "    <tr>\n",
       "      <th>2</th>\n",
       "      <td>\\n\\n\\n\\n\\tFinally you said what you dream abou...</td>\n",
       "      <td>17</td>\n",
       "      <td>[finally, you, said, what, you, dream, about, ...</td>\n",
       "    </tr>\n",
       "    <tr>\n",
       "      <th>3</th>\n",
       "      <td>\\nThink!\\n\\nIt's the SCSI card doing the DMA t...</td>\n",
       "      <td>3</td>\n",
       "      <td>[think, it's, the, scsi, card, doing, the, dma...</td>\n",
       "    </tr>\n",
       "    <tr>\n",
       "      <th>4</th>\n",
       "      <td>1)    I have an old Jasmine drive which I cann...</td>\n",
       "      <td>4</td>\n",
       "      <td>[1, i, have, an, old, jasmine, drive, which, i...</td>\n",
       "    </tr>\n",
       "    <tr>\n",
       "      <th>...</th>\n",
       "      <td>...</td>\n",
       "      <td>...</td>\n",
       "      <td>...</td>\n",
       "    </tr>\n",
       "    <tr>\n",
       "      <th>18841</th>\n",
       "      <td>DN&gt; From: nyeda@cnsvax.uwec.edu (David Nye)\\nD...</td>\n",
       "      <td>13</td>\n",
       "      <td>[dn, from, nyeda, cnsvax, uwec, edu, david, ny...</td>\n",
       "    </tr>\n",
       "    <tr>\n",
       "      <th>18842</th>\n",
       "      <td>\\nNot in isolated ground recepticles (usually ...</td>\n",
       "      <td>12</td>\n",
       "      <td>[not, in, isolated, ground, recepticles, usual...</td>\n",
       "    </tr>\n",
       "    <tr>\n",
       "      <th>18843</th>\n",
       "      <td>I just installed a DX2-66 CPU in a clone mothe...</td>\n",
       "      <td>3</td>\n",
       "      <td>[i, just, installed, a, dx2, 66, cpu, in, a, c...</td>\n",
       "    </tr>\n",
       "    <tr>\n",
       "      <th>18844</th>\n",
       "      <td>\\nWouldn't this require a hyper-sphere.  In 3-...</td>\n",
       "      <td>1</td>\n",
       "      <td>[wouldn't, this, require, a, hyper, sphere, in...</td>\n",
       "    </tr>\n",
       "    <tr>\n",
       "      <th>18845</th>\n",
       "      <td>After a tip from Gary Crum (crum@fcom.cc.utah....</td>\n",
       "      <td>7</td>\n",
       "      <td>[after, a, tip, from, gary, crum, crum, fcom, ...</td>\n",
       "    </tr>\n",
       "  </tbody>\n",
       "</table>\n",
       "<p>18846 rows × 3 columns</p>\n",
       "</div>"
      ],
      "text/plain": [
       "                                                messages  target  \\\n",
       "0      \\n\\nI am sure some bashers of Pens fans are pr...      10   \n",
       "1      My brother is in the market for a high-perform...       3   \n",
       "2      \\n\\n\\n\\n\\tFinally you said what you dream abou...      17   \n",
       "3      \\nThink!\\n\\nIt's the SCSI card doing the DMA t...       3   \n",
       "4      1)    I have an old Jasmine drive which I cann...       4   \n",
       "...                                                  ...     ...   \n",
       "18841  DN> From: nyeda@cnsvax.uwec.edu (David Nye)\\nD...      13   \n",
       "18842  \\nNot in isolated ground recepticles (usually ...      12   \n",
       "18843  I just installed a DX2-66 CPU in a clone mothe...       3   \n",
       "18844  \\nWouldn't this require a hyper-sphere.  In 3-...       1   \n",
       "18845  After a tip from Gary Crum (crum@fcom.cc.utah....       7   \n",
       "\n",
       "                                                les_mots  \n",
       "0      [i, am, sure, some, bashers, of, pens, fans, a...  \n",
       "1      [my, brother, is, in, the, market, for, a, hig...  \n",
       "2      [finally, you, said, what, you, dream, about, ...  \n",
       "3      [think, it's, the, scsi, card, doing, the, dma...  \n",
       "4      [1, i, have, an, old, jasmine, drive, which, i...  \n",
       "...                                                  ...  \n",
       "18841  [dn, from, nyeda, cnsvax, uwec, edu, david, ny...  \n",
       "18842  [not, in, isolated, ground, recepticles, usual...  \n",
       "18843  [i, just, installed, a, dx2, 66, cpu, in, a, c...  \n",
       "18844  [wouldn't, this, require, a, hyper, sphere, in...  \n",
       "18845  [after, a, tip, from, gary, crum, crum, fcom, ...  \n",
       "\n",
       "[18846 rows x 3 columns]"
      ]
     },
     "execution_count": 7,
     "metadata": {},
     "output_type": "execute_result"
    }
   ],
   "source": [
    "news_avec_stopwords"
   ]
  },
  {
   "cell_type": "code",
   "execution_count": 8,
   "id": "3abe358e",
   "metadata": {},
   "outputs": [
    {
     "data": {
      "text/html": [
       "<div>\n",
       "<style scoped>\n",
       "    .dataframe tbody tr th:only-of-type {\n",
       "        vertical-align: middle;\n",
       "    }\n",
       "\n",
       "    .dataframe tbody tr th {\n",
       "        vertical-align: top;\n",
       "    }\n",
       "\n",
       "    .dataframe thead th {\n",
       "        text-align: right;\n",
       "    }\n",
       "</style>\n",
       "<table border=\"1\" class=\"dataframe\">\n",
       "  <thead>\n",
       "    <tr style=\"text-align: right;\">\n",
       "      <th></th>\n",
       "      <th>messages</th>\n",
       "      <th>target</th>\n",
       "      <th>les_mots</th>\n",
       "    </tr>\n",
       "  </thead>\n",
       "  <tbody>\n",
       "    <tr>\n",
       "      <th>0</th>\n",
       "      <td>\\n\\nI am sure some bashers of Pens fans are pr...</td>\n",
       "      <td>10</td>\n",
       "      <td>[sure, bashers, pens, fans, pretty, confused, ...</td>\n",
       "    </tr>\n",
       "    <tr>\n",
       "      <th>1</th>\n",
       "      <td>My brother is in the market for a high-perform...</td>\n",
       "      <td>3</td>\n",
       "      <td>[brother, market, high, performance, video, ca...</td>\n",
       "    </tr>\n",
       "    <tr>\n",
       "      <th>2</th>\n",
       "      <td>\\n\\n\\n\\n\\tFinally you said what you dream abou...</td>\n",
       "      <td>17</td>\n",
       "      <td>[finally, said, dream, mediterranean, new, are...</td>\n",
       "    </tr>\n",
       "    <tr>\n",
       "      <th>3</th>\n",
       "      <td>\\nThink!\\n\\nIt's the SCSI card doing the DMA t...</td>\n",
       "      <td>3</td>\n",
       "      <td>[think, scsi, card, dma, transfers, disks, scs...</td>\n",
       "    </tr>\n",
       "    <tr>\n",
       "      <th>4</th>\n",
       "      <td>1)    I have an old Jasmine drive which I cann...</td>\n",
       "      <td>4</td>\n",
       "      <td>[1, old, jasmine, drive, cannot, use, new, sys...</td>\n",
       "    </tr>\n",
       "    <tr>\n",
       "      <th>...</th>\n",
       "      <td>...</td>\n",
       "      <td>...</td>\n",
       "      <td>...</td>\n",
       "    </tr>\n",
       "    <tr>\n",
       "      <th>18841</th>\n",
       "      <td>DN&gt; From: nyeda@cnsvax.uwec.edu (David Nye)\\nD...</td>\n",
       "      <td>13</td>\n",
       "      <td>[dn, nyeda, cnsvax, uwec, edu, david, nye, dn,...</td>\n",
       "    </tr>\n",
       "    <tr>\n",
       "      <th>18842</th>\n",
       "      <td>\\nNot in isolated ground recepticles (usually ...</td>\n",
       "      <td>12</td>\n",
       "      <td>[isolated, ground, recepticles, usually, unusu...</td>\n",
       "    </tr>\n",
       "    <tr>\n",
       "      <th>18843</th>\n",
       "      <td>I just installed a DX2-66 CPU in a clone mothe...</td>\n",
       "      <td>3</td>\n",
       "      <td>[installed, dx2, 66, cpu, clone, motherboard, ...</td>\n",
       "    </tr>\n",
       "    <tr>\n",
       "      <th>18844</th>\n",
       "      <td>\\nWouldn't this require a hyper-sphere.  In 3-...</td>\n",
       "      <td>1</td>\n",
       "      <td>[require, hyper, sphere, 3, space, 4, points, ...</td>\n",
       "    </tr>\n",
       "    <tr>\n",
       "      <th>18845</th>\n",
       "      <td>After a tip from Gary Crum (crum@fcom.cc.utah....</td>\n",
       "      <td>7</td>\n",
       "      <td>[tip, gary, crum, crum, fcom, cc, utah, edu, g...</td>\n",
       "    </tr>\n",
       "  </tbody>\n",
       "</table>\n",
       "<p>18846 rows × 3 columns</p>\n",
       "</div>"
      ],
      "text/plain": [
       "                                                messages  target  \\\n",
       "0      \\n\\nI am sure some bashers of Pens fans are pr...      10   \n",
       "1      My brother is in the market for a high-perform...       3   \n",
       "2      \\n\\n\\n\\n\\tFinally you said what you dream abou...      17   \n",
       "3      \\nThink!\\n\\nIt's the SCSI card doing the DMA t...       3   \n",
       "4      1)    I have an old Jasmine drive which I cann...       4   \n",
       "...                                                  ...     ...   \n",
       "18841  DN> From: nyeda@cnsvax.uwec.edu (David Nye)\\nD...      13   \n",
       "18842  \\nNot in isolated ground recepticles (usually ...      12   \n",
       "18843  I just installed a DX2-66 CPU in a clone mothe...       3   \n",
       "18844  \\nWouldn't this require a hyper-sphere.  In 3-...       1   \n",
       "18845  After a tip from Gary Crum (crum@fcom.cc.utah....       7   \n",
       "\n",
       "                                                les_mots  \n",
       "0      [sure, bashers, pens, fans, pretty, confused, ...  \n",
       "1      [brother, market, high, performance, video, ca...  \n",
       "2      [finally, said, dream, mediterranean, new, are...  \n",
       "3      [think, scsi, card, dma, transfers, disks, scs...  \n",
       "4      [1, old, jasmine, drive, cannot, use, new, sys...  \n",
       "...                                                  ...  \n",
       "18841  [dn, nyeda, cnsvax, uwec, edu, david, nye, dn,...  \n",
       "18842  [isolated, ground, recepticles, usually, unusu...  \n",
       "18843  [installed, dx2, 66, cpu, clone, motherboard, ...  \n",
       "18844  [require, hyper, sphere, 3, space, 4, points, ...  \n",
       "18845  [tip, gary, crum, crum, fcom, cc, utah, edu, g...  \n",
       "\n",
       "[18846 rows x 3 columns]"
      ]
     },
     "execution_count": 8,
     "metadata": {},
     "output_type": "execute_result"
    }
   ],
   "source": [
    "news_sans_stopwords"
   ]
  },
  {
   "cell_type": "code",
   "execution_count": 9,
   "id": "891048ec",
   "metadata": {},
   "outputs": [
    {
     "data": {
      "text/html": [
       "<div>\n",
       "<style scoped>\n",
       "    .dataframe tbody tr th:only-of-type {\n",
       "        vertical-align: middle;\n",
       "    }\n",
       "\n",
       "    .dataframe tbody tr th {\n",
       "        vertical-align: top;\n",
       "    }\n",
       "\n",
       "    .dataframe thead th {\n",
       "        text-align: right;\n",
       "    }\n",
       "</style>\n",
       "<table border=\"1\" class=\"dataframe\">\n",
       "  <thead>\n",
       "    <tr style=\"text-align: right;\">\n",
       "      <th></th>\n",
       "      <th>messages</th>\n",
       "      <th>target</th>\n",
       "      <th>les_mots</th>\n",
       "    </tr>\n",
       "  </thead>\n",
       "  <tbody>\n",
       "    <tr>\n",
       "      <th>0</th>\n",
       "      <td>\\n\\n\\n\\nOh, do please try not to be ludicrous....</td>\n",
       "      <td>18</td>\n",
       "      <td>[oh, do, please, try, not, to, be, ludicrous, ...</td>\n",
       "    </tr>\n",
       "    <tr>\n",
       "      <th>1</th>\n",
       "      <td>\\nXGA or XGA-2?  For the original XGA you just...</td>\n",
       "      <td>3</td>\n",
       "      <td>[xga, or, xga, 2, for, the, original, xga, you...</td>\n",
       "    </tr>\n",
       "    <tr>\n",
       "      <th>2</th>\n",
       "      <td>\\n\\nHST is about 25,500 lbs (11,600 kg).  That...</td>\n",
       "      <td>14</td>\n",
       "      <td>[hst, is, about, 25, 500, lbs, 11, 600, kg, th...</td>\n",
       "    </tr>\n",
       "    <tr>\n",
       "      <th>3</th>\n",
       "      <td>I don't know about where you are, but here in ...</td>\n",
       "      <td>7</td>\n",
       "      <td>[i, don't, know, about, where, you, are, but, ...</td>\n",
       "    </tr>\n",
       "    <tr>\n",
       "      <th>4</th>\n",
       "      <td>I have a few the original IBM 10Mb harddisks f...</td>\n",
       "      <td>6</td>\n",
       "      <td>[i, have, a, few, the, original, ibm, 10mb, ha...</td>\n",
       "    </tr>\n",
       "    <tr>\n",
       "      <th>...</th>\n",
       "      <td>...</td>\n",
       "      <td>...</td>\n",
       "      <td>...</td>\n",
       "    </tr>\n",
       "    <tr>\n",
       "      <th>927</th>\n",
       "      <td>\\nWhy? There is no need to go into this..........</td>\n",
       "      <td>17</td>\n",
       "      <td>[why, there, is, no, need, to, go, into, this,...</td>\n",
       "    </tr>\n",
       "    <tr>\n",
       "      <th>928</th>\n",
       "      <td>Why should anyone (check: let's restrict this ...</td>\n",
       "      <td>19</td>\n",
       "      <td>[why, should, anyone, check, let's, restrict, ...</td>\n",
       "    </tr>\n",
       "    <tr>\n",
       "      <th>929</th>\n",
       "      <td>JG&gt; After this fall, I believe IBM no longer h...</td>\n",
       "      <td>2</td>\n",
       "      <td>[jg, after, this, fall, i, believe, ibm, no, l...</td>\n",
       "    </tr>\n",
       "    <tr>\n",
       "      <th>930</th>\n",
       "      <td>Does anybody share my opinion that in big-city...</td>\n",
       "      <td>8</td>\n",
       "      <td>[does, anybody, share, my, opinion, that, in, ...</td>\n",
       "    </tr>\n",
       "    <tr>\n",
       "      <th>931</th>\n",
       "      <td>\\nAnyone who can repeate this choice piece of ...</td>\n",
       "      <td>17</td>\n",
       "      <td>[anyone, who, can, repeate, this, choice, piec...</td>\n",
       "    </tr>\n",
       "  </tbody>\n",
       "</table>\n",
       "<p>932 rows × 3 columns</p>\n",
       "</div>"
      ],
      "text/plain": [
       "                                              messages  target  \\\n",
       "0    \\n\\n\\n\\nOh, do please try not to be ludicrous....      18   \n",
       "1    \\nXGA or XGA-2?  For the original XGA you just...       3   \n",
       "2    \\n\\nHST is about 25,500 lbs (11,600 kg).  That...      14   \n",
       "3    I don't know about where you are, but here in ...       7   \n",
       "4    I have a few the original IBM 10Mb harddisks f...       6   \n",
       "..                                                 ...     ...   \n",
       "927  \\nWhy? There is no need to go into this..........      17   \n",
       "928  Why should anyone (check: let's restrict this ...      19   \n",
       "929  JG> After this fall, I believe IBM no longer h...       2   \n",
       "930  Does anybody share my opinion that in big-city...       8   \n",
       "931  \\nAnyone who can repeate this choice piece of ...      17   \n",
       "\n",
       "                                              les_mots  \n",
       "0    [oh, do, please, try, not, to, be, ludicrous, ...  \n",
       "1    [xga, or, xga, 2, for, the, original, xga, you...  \n",
       "2    [hst, is, about, 25, 500, lbs, 11, 600, kg, th...  \n",
       "3    [i, don't, know, about, where, you, are, but, ...  \n",
       "4    [i, have, a, few, the, original, ibm, 10mb, ha...  \n",
       "..                                                 ...  \n",
       "927  [why, there, is, no, need, to, go, into, this,...  \n",
       "928  [why, should, anyone, check, let's, restrict, ...  \n",
       "929  [jg, after, this, fall, i, believe, ibm, no, l...  \n",
       "930  [does, anybody, share, my, opinion, that, in, ...  \n",
       "931  [anyone, who, can, repeate, this, choice, piec...  \n",
       "\n",
       "[932 rows x 3 columns]"
      ]
     },
     "execution_count": 9,
     "metadata": {},
     "output_type": "execute_result"
    }
   ],
   "source": [
    "df_avec_stopwords, _  =  net.train_test_split(news_avec_stopwords,'target', taux=0.05, random_seed=42)\n",
    "test_avec_stopwords, _ = net.train_test_split(news_avec_stopwords,'target', taux=0.08, random_seed=42)\n",
    "df_avec_stopwords"
   ]
  },
  {
   "cell_type": "code",
   "execution_count": 10,
   "id": "564d986a",
   "metadata": {},
   "outputs": [
    {
     "name": "stdout",
     "output_type": "stream",
     "text": [
      "(1498, 3)\n"
     ]
    }
   ],
   "source": [
    "print(test_avec_stopwords.shape)"
   ]
  },
  {
   "cell_type": "code",
   "execution_count": 11,
   "id": "8720a4fb",
   "metadata": {},
   "outputs": [
    {
     "data": {
      "text/html": [
       "<div>\n",
       "<style scoped>\n",
       "    .dataframe tbody tr th:only-of-type {\n",
       "        vertical-align: middle;\n",
       "    }\n",
       "\n",
       "    .dataframe tbody tr th {\n",
       "        vertical-align: top;\n",
       "    }\n",
       "\n",
       "    .dataframe thead th {\n",
       "        text-align: right;\n",
       "    }\n",
       "</style>\n",
       "<table border=\"1\" class=\"dataframe\">\n",
       "  <thead>\n",
       "    <tr style=\"text-align: right;\">\n",
       "      <th></th>\n",
       "      <th>messages</th>\n",
       "      <th>target</th>\n",
       "      <th>les_mots</th>\n",
       "    </tr>\n",
       "  </thead>\n",
       "  <tbody>\n",
       "    <tr>\n",
       "      <th>0</th>\n",
       "      <td>\\nThe sensitivity is changed using the /S, /V,...</td>\n",
       "      <td>2</td>\n",
       "      <td>[sensitivity, changed, using, v, h, parameter,...</td>\n",
       "    </tr>\n",
       "    <tr>\n",
       "      <th>1</th>\n",
       "      <td>NaN</td>\n",
       "      <td>12</td>\n",
       "      <td>[nan]</td>\n",
       "    </tr>\n",
       "    <tr>\n",
       "      <th>2</th>\n",
       "      <td>\\n\\nIn fact, they make some ,but they just don...</td>\n",
       "      <td>7</td>\n",
       "      <td>[fact, make, sell, u, sunny, california, 1, 6l...</td>\n",
       "    </tr>\n",
       "    <tr>\n",
       "      <th>3</th>\n",
       "      <td>\\n\\nMSG is mono sodium glutamate, a fairly str...</td>\n",
       "      <td>13</td>\n",
       "      <td>[msg, mono, sodium, glutamate, fairly, straigh...</td>\n",
       "    </tr>\n",
       "    <tr>\n",
       "      <th>4</th>\n",
       "      <td>I am a newbie to the net, and I am trying to g...</td>\n",
       "      <td>14</td>\n",
       "      <td>[newbie, net, trying, get, information, paper,...</td>\n",
       "    </tr>\n",
       "    <tr>\n",
       "      <th>...</th>\n",
       "      <td>...</td>\n",
       "      <td>...</td>\n",
       "      <td>...</td>\n",
       "    </tr>\n",
       "    <tr>\n",
       "      <th>168</th>\n",
       "      <td>\\n\\n\\n\\n\\n\\nObviously, we have different sourc...</td>\n",
       "      <td>0</td>\n",
       "      <td>[obviously, different, sources, bill, moyers, ...</td>\n",
       "    </tr>\n",
       "    <tr>\n",
       "      <th>169</th>\n",
       "      <td>This seems to be a simple problem but I just c...</td>\n",
       "      <td>1</td>\n",
       "      <td>[seems, simple, problem, cannot, solve, wrote,...</td>\n",
       "    </tr>\n",
       "    <tr>\n",
       "      <th>170</th>\n",
       "      <td>Hi world,\\n        \\n        I want to buy a S...</td>\n",
       "      <td>3</td>\n",
       "      <td>[hi, world, want, buy, spirit, ii, 14400, data...</td>\n",
       "    </tr>\n",
       "    <tr>\n",
       "      <th>171</th>\n",
       "      <td>\\n\\n\\nWouldn't you rather have some type of st...</td>\n",
       "      <td>7</td>\n",
       "      <td>[rather, type, standard, electrical, plug, ins...</td>\n",
       "    </tr>\n",
       "    <tr>\n",
       "      <th>172</th>\n",
       "      <td>Hello,\\n\\ndoes somebody know the functions  Xt...</td>\n",
       "      <td>5</td>\n",
       "      <td>[hello, somebody, know, functions, xtshellstri...</td>\n",
       "    </tr>\n",
       "  </tbody>\n",
       "</table>\n",
       "<p>173 rows × 3 columns</p>\n",
       "</div>"
      ],
      "text/plain": [
       "                                              messages  target  \\\n",
       "0    \\nThe sensitivity is changed using the /S, /V,...       2   \n",
       "1                                                  NaN      12   \n",
       "2    \\n\\nIn fact, they make some ,but they just don...       7   \n",
       "3    \\n\\nMSG is mono sodium glutamate, a fairly str...      13   \n",
       "4    I am a newbie to the net, and I am trying to g...      14   \n",
       "..                                                 ...     ...   \n",
       "168  \\n\\n\\n\\n\\n\\nObviously, we have different sourc...       0   \n",
       "169  This seems to be a simple problem but I just c...       1   \n",
       "170  Hi world,\\n        \\n        I want to buy a S...       3   \n",
       "171  \\n\\n\\nWouldn't you rather have some type of st...       7   \n",
       "172  Hello,\\n\\ndoes somebody know the functions  Xt...       5   \n",
       "\n",
       "                                              les_mots  \n",
       "0    [sensitivity, changed, using, v, h, parameter,...  \n",
       "1                                                [nan]  \n",
       "2    [fact, make, sell, u, sunny, california, 1, 6l...  \n",
       "3    [msg, mono, sodium, glutamate, fairly, straigh...  \n",
       "4    [newbie, net, trying, get, information, paper,...  \n",
       "..                                                 ...  \n",
       "168  [obviously, different, sources, bill, moyers, ...  \n",
       "169  [seems, simple, problem, cannot, solve, wrote,...  \n",
       "170  [hi, world, want, buy, spirit, ii, 14400, data...  \n",
       "171  [rather, type, standard, electrical, plug, ins...  \n",
       "172  [hello, somebody, know, functions, xtshellstri...  \n",
       "\n",
       "[173 rows x 3 columns]"
      ]
     },
     "execution_count": 11,
     "metadata": {},
     "output_type": "execute_result"
    }
   ],
   "source": [
    "df_sans_stopwords,_ =  net.train_test_split(news_sans_stopwords,'target', taux=0.01, random_seed=42)\n",
    "test_sans_stopwords, _ = net.train_test_split(news_avec_stopwords,'target', taux=0.08, random_seed=42)\n",
    "df_sans_stopwords"
   ]
  },
  {
   "cell_type": "code",
   "execution_count": 12,
   "id": "28cdb942",
   "metadata": {},
   "outputs": [
    {
     "name": "stdout",
     "output_type": "stream",
     "text": [
      "[ 0  1  2  3  4  5  6  7  8  9 10 11 12 13 14 15 16 17 18 19]\n"
     ]
    }
   ],
   "source": [
    "print(np.unique(df_sans_stopwords['target']))"
   ]
  },
  {
   "cell_type": "markdown",
   "id": "5cabf183-5055-4a78-a485-34e57e33ad1d",
   "metadata": {},
   "source": [
    "## Tâches à réaliser"
   ]
  },
  {
   "cell_type": "markdown",
   "id": "b8a96998-c20b-4893-bb69-b5d0031474bb",
   "metadata": {},
   "source": [
    "### Apprentissage supervisé\n",
    "\n",
    "*Tâches*: évaluation d'algorithmes et de représentations des données.\n",
    "- classification binaire\n",
    "- classification multi-classe\n",
    "\n",
    "*Etudes suggérées*:\n",
    "- représentations des données\n",
    "    - avec ou sans suppression des stopwords\n",
    "    - différentes représentations: bag-of-words binaire, avec comptage, avec fréquences, avec tfidf\n",
    "- différents classifiers:\n",
    "    - perceptron,\n",
    "    - k-plus proches voisins avec distance euclidienne,\n",
    "    - k-plus proches voisins avec distance cosinus (cf. TD),\n",
    "    - Naives Bayes,\n",
    "    - arbres de décision\n",
    "- analyse des résultats:\n",
    "    - accuracy, temps d'exécutions\n",
    "    - score fold par fold\n",
    "    - matrice de confusion\n"
   ]
  },
  {
   "cell_type": "code",
   "execution_count": 13,
   "id": "631f434e",
   "metadata": {},
   "outputs": [],
   "source": [
    "textes_train = [' '.join(mots) for mots in df_sans_stopwords['les_mots']]\n",
    "textes_test = [' '.join(mots) for mots in test_sans_stopwords['les_mots']]\n",
    "textes_full = [' '.join(mots) for mots in news_sans_stopwords['les_mots']]\n"
   ]
  },
  {
   "cell_type": "code",
   "execution_count": 14,
   "id": "5397e703",
   "metadata": {},
   "outputs": [],
   "source": [
    "# Préparation des labels\n",
    "y_train = np.array(df_sans_stopwords['target'])\n",
    "y_test = np.array(test_sans_stopwords['target'])\n",
    "y_full = np.array(news_sans_stopwords['target'])"
   ]
  },
  {
   "cell_type": "code",
   "execution_count": 15,
   "id": "39f350ff",
   "metadata": {},
   "outputs": [],
   "source": [
    "def binarize_labels(y, pos_class):\n",
    "    return np.array([1 if label == pos_class else -1 for label in y])"
   ]
  },
  {
   "cell_type": "code",
   "execution_count": 16,
   "id": "f232420d",
   "metadata": {},
   "outputs": [],
   "source": [
    "classe_positive = 3\n",
    "y_train_bin = binarize_labels(y_train, classe_positive)\n",
    "y_test_bin = binarize_labels(y_test, classe_positive)\n",
    "y_full_bin = binarize_labels(y_full, classe_positive)\n",
    "\n"
   ]
  },
  {
   "cell_type": "code",
   "execution_count": 17,
   "id": "5b21e824",
   "metadata": {},
   "outputs": [],
   "source": [
    "vect = CountVectorizer(binary=True, max_features=50000)\n",
    "vect.fit(textes_full)\n",
    "\n",
    "X_train = vect.transform(textes_train).toarray()\n",
    "X_test = vect.transform(textes_test).toarray()\n",
    "X_full = vect.transform(textes_full).toarray()\n"
   ]
  },
  {
   "cell_type": "code",
   "execution_count": 18,
   "id": "3a139d6c",
   "metadata": {},
   "outputs": [
    {
     "name": "stdout",
     "output_type": "stream",
     "text": [
      "Fin train\n",
      "Temps d'entraînement : 0.0000 secondes\n",
      "Accuracy sur test (classe 3 vs reste) : 0.9479\n",
      "Temps d'évaluation : 61.0636 secondes\n"
     ]
    }
   ],
   "source": [
    "input_dim = X_train.shape[1]\n",
    "k = 5\n",
    "knn = classif.ClassifierKNN(input_dim, k)\n",
    "\n",
    "# Mesure du temps d'entraînement\n",
    "start_train = time.time()\n",
    "knn.train(X_train, y_train_bin)\n",
    "elapsed_train = time.time() - start_train\n",
    "print(\"Fin train\")\n",
    "print(f\"Temps d'entraînement : {elapsed_train:.4f} secondes\")\n",
    "\n",
    "# Mesure du temps d'évaluation (accuracy)\n",
    "start_test = time.time()\n",
    "acc_test = knn.accuracy(X_test, y_test_bin)\n",
    "elapsed_test = time.time() - start_test\n",
    "print(f\"Accuracy sur test (classe {classe_positive} vs reste) : {acc_test:.4f}\")\n",
    "print(f\"Temps d'évaluation : {elapsed_test:.4f} secondes\")\n"
   ]
  },
  {
   "cell_type": "code",
   "execution_count": 26,
   "id": "6b15a0fe",
   "metadata": {},
   "outputs": [
    {
     "ename": "AttributeError",
     "evalue": "module 'iads.evaluation' has no attribute 'afficher_matrice_confusion'",
     "output_type": "error",
     "traceback": [
      "\u001b[0;31m---------------------------------------------------------------------------\u001b[0m",
      "\u001b[0;31mAttributeError\u001b[0m                            Traceback (most recent call last)",
      "Cell \u001b[0;32mIn[26], line 3\u001b[0m\n\u001b[1;32m      1\u001b[0m performances, moyenne, ecart_type, matrice_confusion \u001b[38;5;241m=\u001b[39m ev\u001b[38;5;241m.\u001b[39mvalidation_croisee(knn, (X_test, y_test_bin), \u001b[38;5;241m5\u001b[39m)\n\u001b[1;32m      2\u001b[0m classes_uniques \u001b[38;5;241m=\u001b[39m np\u001b[38;5;241m.\u001b[39munique(y_test_bin)\n\u001b[0;32m----> 3\u001b[0m \u001b[43mev\u001b[49m\u001b[38;5;241;43m.\u001b[39;49m\u001b[43mafficher_matrice_confusion\u001b[49m(matrice_confusion, classes_uniques)\n",
      "\u001b[0;31mAttributeError\u001b[0m: module 'iads.evaluation' has no attribute 'afficher_matrice_confusion'"
     ]
    }
   ],
   "source": [
    "performances, moyenne, ecart_type, matrice_confusion = ev.validation_croisee(knn, (X_test, y_test_bin), 5)\n",
    "classes_uniques = np.unique(y_test_bin)\n",
    "ev.afficher_matrice_confusion(matrice_confusion, classes_uniques)"
   ]
  },
  {
   "cell_type": "code",
   "execution_count": 27,
   "id": "40ddb317",
   "metadata": {},
   "outputs": [
    {
     "name": "stderr",
     "output_type": "stream",
     "text": [
      "[autoreload of iads.Classifiers failed: Traceback (most recent call last):\n",
      "  File \"/home/yarina/.local/lib/python3.10/site-packages/IPython/extensions/autoreload.py\", line 276, in check\n",
      "    superreload(m, reload, self.old_objects)\n",
      "  File \"/home/yarina/.local/lib/python3.10/site-packages/IPython/extensions/autoreload.py\", line 475, in superreload\n",
      "    module = reload(module)\n",
      "  File \"/usr/lib/python3.10/importlib/__init__.py\", line 169, in reload\n",
      "    _bootstrap._exec(spec, module)\n",
      "  File \"<frozen importlib._bootstrap>\", line 619, in _exec\n",
      "  File \"<frozen importlib._bootstrap_external>\", line 883, in exec_module\n",
      "  File \"<frozen importlib._bootstrap>\", line 241, in _call_with_frames_removed\n",
      "  File \"/home/yarina/an3/LU3IN026/Sciences-de-donnees/iads/Classifiers.py\", line 366, in <module>\n",
      "    class ClassifierArbreDecision(classif.Classifier):\n",
      "NameError: name 'classif' is not defined\n",
      "]\n"
     ]
    },
    {
     "data": {
      "image/png": "[encoded data removed]",
      "text/plain": [
       "<Figure size 800x600 with 2 Axes>"
      ]
     },
     "metadata": {},
     "output_type": "display_data"
    }
   ],
   "source": [
    "ev.afficher_matrice_confusion(matrice_confusion, classes_uniques)"
   ]
  },
  {
   "cell_type": "code",
   "execution_count": null,
   "id": "b3b0dd8b",
   "metadata": {},
   "outputs": [],
   "source": []
  },
  {
   "cell_type": "code",
   "execution_count": 19,
   "id": "8bfa6386",
   "metadata": {},
   "outputs": [
    {
     "name": "stdout",
     "output_type": "stream",
     "text": [
      "Fin train\n",
      "Temps d'entraînement : 0.0000 secondes\n",
      "Accuracy sur test (classe 3 vs reste) : 0.9459\n",
      "Temps d'évaluation : 63.9592 secondes\n"
     ]
    }
   ],
   "source": [
    "input_dim = X_train.shape[1]\n",
    "k = 5\n",
    "knn_cos = classif.ClassifierKNNCosine(input_dim, k)\n",
    "\n",
    "# Mesure du temps d'entraînement\n",
    "start_train = time.time()\n",
    "knn_cos.train(X_train, y_train_bin)\n",
    "elapsed_train = time.time() - start_train\n",
    "print(\"Fin train\")\n",
    "print(f\"Temps d'entraînement : {elapsed_train:.4f} secondes\")\n",
    "\n",
    "# Mesure du temps d'évaluation (accuracy)\n",
    "start_test = time.time()\n",
    "acc_test = knn_cos.accuracy(X_test, y_test_bin)\n",
    "elapsed_test = time.time() - start_test\n",
    "print(f\"Accuracy sur test (classe {classe_positive} vs reste) : {acc_test:.4f}\")\n",
    "print(f\"Temps d'évaluation : {elapsed_test:.4f} secondes\")\n"
   ]
  },
  {
   "cell_type": "code",
   "execution_count": null,
   "id": "0ee45229",
   "metadata": {},
   "outputs": [],
   "source": [
    "performances, moyenne, ecart_type, matrice_confusion = ev.validation_croisee(knn_cos, (X_test, y_test_bin), 5)\n",
    "classes_uniques = np.unique(y_test_bin)\n",
    "ev.afficher_matrice_confusion(matrice_confusion, classes_uniques)"
   ]
  },
  {
   "cell_type": "code",
   "execution_count": null,
   "id": "8de231c3",
   "metadata": {},
   "outputs": [],
   "source": []
  },
  {
   "cell_type": "code",
   "execution_count": 20,
   "id": "009ea55a",
   "metadata": {},
   "outputs": [
    {
     "name": "stdout",
     "output_type": "stream",
     "text": [
      "Fin train\n",
      "Temps d'entraînement : 0.0000 secondes\n",
      "Accuracy sur test (classe 11 vs reste) : 0.9479\n",
      "Temps d'évaluation : 61.5829 secondes\n"
     ]
    }
   ],
   "source": [
    "classe_positive = 11\n",
    "input_dim = X_train.shape[1]\n",
    "k = 5\n",
    "knn = classif.ClassifierKNN(input_dim, k)\n",
    "\n",
    "# Mesure du temps d'entraînement\n",
    "start_train = time.time()\n",
    "knn.train(X_train, y_train_bin)\n",
    "elapsed_train = time.time() - start_train\n",
    "print(\"Fin train\")\n",
    "print(f\"Temps d'entraînement : {elapsed_train:.4f} secondes\")\n",
    "\n",
    "# Mesure du temps d'évaluation (accuracy)\n",
    "start_test = time.time()\n",
    "acc_test = knn.accuracy(X_test, y_test_bin)\n",
    "elapsed_test = time.time() - start_test\n",
    "print(f\"Accuracy sur test (classe {classe_positive} vs reste) : {acc_test:.4f}\")\n",
    "print(f\"Temps d'évaluation : {elapsed_test:.4f} secondes\")\n"
   ]
  },
  {
   "cell_type": "code",
   "execution_count": null,
   "id": "fc810027",
   "metadata": {},
   "outputs": [
    {
     "name": "stdout",
     "output_type": "stream",
     "text": [
      "▶ Validation croisée 5-fold\n"
     ]
    }
   ],
   "source": [
    "classe_positive = 11\n",
    "input_dim = X_train.shape[1]\n",
    "k = 5\n",
    "knn_cos = classif.ClassifierKNNCosine(input_dim, k)\n",
    "\n",
    "# Mesure du temps d'entraînement\n",
    "start_train = time.time()\n",
    "knn_cos.train(X_train, y_train_bin)\n",
    "elapsed_train = time.time() - start_train\n",
    "print(\"Fin train\")\n",
    "print(f\"Temps d'entraînement : {elapsed_train:.4f} secondes\")\n",
    "\n",
    "# Mesure du temps d'évaluation (accuracy)\n",
    "start_test = time.time()\n",
    "acc_test = knn_cos.accuracy(X_test, y_test_bin)\n",
    "elapsed_test = time.time() - start_test\n",
    "print(f\"Accuracy sur test (classe {classe_positive} vs reste) : {acc_test:.4f}\")\n",
    "print(f\"Temps d'évaluation : {elapsed_test:.4f} secondes\")\n"
   ]
  },
  {
   "cell_type": "code",
   "execution_count": 23,
   "id": "61300589",
   "metadata": {},
   "outputs": [
    {
     "name": "stdout",
     "output_type": "stream",
     "text": [
      "Fin train\n",
      "Temps d'entraînement : 0.0000 secondes\n",
      "Accuracy sur test multiclasse) : 0.9479\n",
      "Temps d'évaluation : 60.1906 secondes\n"
     ]
    }
   ],
   "source": [
    "input_dim = X_train.shape[1]\n",
    "k = 5\n",
    "knn_mult = classif.ClassifierKNNMulti(input_dim, k)\n",
    "\n",
    "# Mesure du temps d'entraînement\n",
    "start_train = time.time()\n",
    "knn_mult.train(X_train, y_train_bin)\n",
    "elapsed_train = time.time() - start_train\n",
    "print(\"Fin train\")\n",
    "print(f\"Temps d'entraînement : {elapsed_train:.4f} secondes\")\n",
    "\n",
    "# Mesure du temps d'évaluation (accuracy)\n",
    "start_test = time.time()\n",
    "acc_test = knn_mult.accuracy(X_test, y_test_bin)\n",
    "elapsed_test = time.time() - start_test\n",
    "print(f\"Accuracy sur test multiclasse) : {acc_test:.4f}\")\n",
    "print(f\"Temps d'évaluation : {elapsed_test:.4f} secondes\")"
   ]
  },
  {
   "cell_type": "code",
   "execution_count": 19,
   "id": "6399e27a",
   "metadata": {},
   "outputs": [
    {
     "name": "stdout",
     "output_type": "stream",
     "text": [
      "=== Évaluation (Binaire (classe 3)) sur jeu train/test fixes ===\n"
     ]
    },
    {
     "ename": "KeyboardInterrupt",
     "evalue": "",
     "output_type": "error",
     "traceback": [
      "\u001b[0;31m---------------------------------------------------------------------------\u001b[0m",
      "\u001b[0;31mKeyboardInterrupt\u001b[0m                         Traceback (most recent call last)",
      "Cell \u001b[0;32mIn[19], line 2\u001b[0m\n\u001b[1;32m      1\u001b[0m \u001b[38;5;66;03m# Lancer l’analyse complète\u001b[39;00m\n\u001b[0;32m----> 2\u001b[0m \u001b[43mclassif\u001b[49m\u001b[38;5;241;43m.\u001b[39;49m\u001b[43manalyser_classifieur_matrice\u001b[49m\u001b[43m(\u001b[49m\u001b[43mclf_knn\u001b[49m\u001b[43m,\u001b[49m\u001b[43m \u001b[49m\u001b[43mX_train\u001b[49m\u001b[43m,\u001b[49m\u001b[43m \u001b[49m\u001b[43my_train\u001b[49m\u001b[43m,\u001b[49m\u001b[43m \u001b[49m\u001b[43mX_test\u001b[49m\u001b[43m,\u001b[49m\u001b[43m \u001b[49m\u001b[43my_test\u001b[49m\u001b[43m,\u001b[49m\u001b[43m \u001b[49m\u001b[43mX_full\u001b[49m\u001b[43m,\u001b[49m\u001b[43m \u001b[49m\u001b[43my_full\u001b[49m\u001b[43m,\u001b[49m\u001b[43m \u001b[49m\u001b[43mn_folds\u001b[49m\u001b[38;5;241;43m=\u001b[39;49m\u001b[38;5;241;43m5\u001b[39;49m\u001b[43m,\u001b[49m\u001b[43mclasse_positive\u001b[49m\u001b[38;5;241;43m=\u001b[39;49m\u001b[38;5;241;43m3\u001b[39;49m\u001b[43m)\u001b[49m\n",
      "File \u001b[0;32m~/an3/LU3IN026/Sciences-de-donnees/iads/Classifiers.py:159\u001b[0m, in \u001b[0;36manalyser_classifieur_matrice\u001b[0;34m(clf, X_train, y_train, X_test, y_test, X_full, y_full, classe_positive, n_folds)\u001b[0m\n\u001b[1;32m    157\u001b[0m start \u001b[38;5;241m=\u001b[39m time\u001b[38;5;241m.\u001b[39mtime()\n\u001b[1;32m    158\u001b[0m clf\u001b[38;5;241m.\u001b[39mtrain(X_train, y_train_proc)\n\u001b[0;32m--> 159\u001b[0m y_pred \u001b[38;5;241m=\u001b[39m np\u001b[38;5;241m.\u001b[39marray([clf\u001b[38;5;241m.\u001b[39mpredict(x) \u001b[38;5;28;01mfor\u001b[39;00m x \u001b[38;5;129;01min\u001b[39;00m X_test])\n\u001b[1;32m    160\u001b[0m elapsed \u001b[38;5;241m=\u001b[39m time\u001b[38;5;241m.\u001b[39mtime() \u001b[38;5;241m-\u001b[39m start\n\u001b[1;32m    161\u001b[0m acc \u001b[38;5;241m=\u001b[39m clf\u001b[38;5;241m.\u001b[39maccuracy(X_test, y_test_proc)\n",
      "File \u001b[0;32m~/an3/LU3IN026/Sciences-de-donnees/iads/Classifiers.py:159\u001b[0m, in \u001b[0;36m<listcomp>\u001b[0;34m(.0)\u001b[0m\n\u001b[1;32m    157\u001b[0m start \u001b[38;5;241m=\u001b[39m time\u001b[38;5;241m.\u001b[39mtime()\n\u001b[1;32m    158\u001b[0m clf\u001b[38;5;241m.\u001b[39mtrain(X_train, y_train_proc)\n\u001b[0;32m--> 159\u001b[0m y_pred \u001b[38;5;241m=\u001b[39m np\u001b[38;5;241m.\u001b[39marray([\u001b[43mclf\u001b[49m\u001b[38;5;241;43m.\u001b[39;49m\u001b[43mpredict\u001b[49m\u001b[43m(\u001b[49m\u001b[43mx\u001b[49m\u001b[43m)\u001b[49m \u001b[38;5;28;01mfor\u001b[39;00m x \u001b[38;5;129;01min\u001b[39;00m X_test])\n\u001b[1;32m    160\u001b[0m elapsed \u001b[38;5;241m=\u001b[39m time\u001b[38;5;241m.\u001b[39mtime() \u001b[38;5;241m-\u001b[39m start\n\u001b[1;32m    161\u001b[0m acc \u001b[38;5;241m=\u001b[39m clf\u001b[38;5;241m.\u001b[39maccuracy(X_test, y_test_proc)\n",
      "File \u001b[0;32m~/an3/LU3IN026/Sciences-de-donnees/iads/Classifiers.py:292\u001b[0m, in \u001b[0;36mClassifierKNN.predict\u001b[0;34m(self, x)\u001b[0m\n\u001b[1;32m    288\u001b[0m \u001b[38;5;28;01mdef\u001b[39;00m \u001b[38;5;21mpredict\u001b[39m(\u001b[38;5;28mself\u001b[39m, x):\n\u001b[1;32m    289\u001b[0m \u001b[38;5;250m    \u001b[39m\u001b[38;5;124;03m\"\"\" rend la prediction sur x (-1 ou +1)\u001b[39;00m\n\u001b[1;32m    290\u001b[0m \u001b[38;5;124;03m        x: une description : un ndarray\u001b[39;00m\n\u001b[1;32m    291\u001b[0m \u001b[38;5;124;03m    \"\"\"\u001b[39;00m\n\u001b[0;32m--> 292\u001b[0m     \u001b[38;5;28;01mif\u001b[39;00m \u001b[38;5;28;43mself\u001b[39;49m\u001b[38;5;241;43m.\u001b[39;49m\u001b[43mscore\u001b[49m\u001b[43m(\u001b[49m\u001b[43mx\u001b[49m\u001b[43m)\u001b[49m\u001b[38;5;241m>\u001b[39m\u001b[38;5;241m=\u001b[39m\u001b[38;5;241m0\u001b[39m:\n\u001b[1;32m    293\u001b[0m         \u001b[38;5;28;01mreturn\u001b[39;00m \u001b[38;5;241m1\u001b[39m\n\u001b[1;32m    294\u001b[0m     \u001b[38;5;28;01mreturn\u001b[39;00m \u001b[38;5;241m-\u001b[39m\u001b[38;5;241m1\u001b[39m\n",
      "File \u001b[0;32m~/an3/LU3IN026/Sciences-de-donnees/iads/Classifiers.py:280\u001b[0m, in \u001b[0;36mClassifierKNN.score\u001b[0;34m(self, x)\u001b[0m\n\u001b[1;32m    276\u001b[0m \u001b[38;5;28;01mdef\u001b[39;00m \u001b[38;5;21mscore\u001b[39m(\u001b[38;5;28mself\u001b[39m,x):\n\u001b[1;32m    277\u001b[0m \u001b[38;5;250m    \u001b[39m\u001b[38;5;124;03m\"\"\" rend la proportion de +1 parmi les k ppv de x (valeur réelle)\u001b[39;00m\n\u001b[1;32m    278\u001b[0m \u001b[38;5;124;03m        x: une description : un ndarray\u001b[39;00m\n\u001b[1;32m    279\u001b[0m \u001b[38;5;124;03m    \"\"\"\u001b[39;00m\n\u001b[0;32m--> 280\u001b[0m     distances \u001b[38;5;241m=\u001b[39m \u001b[43mnp\u001b[49m\u001b[38;5;241;43m.\u001b[39;49m\u001b[43mlinalg\u001b[49m\u001b[38;5;241;43m.\u001b[39;49m\u001b[43mnorm\u001b[49m\u001b[43m(\u001b[49m\u001b[43mx\u001b[49m\u001b[43m \u001b[49m\u001b[38;5;241;43m-\u001b[39;49m\u001b[43m \u001b[49m\u001b[38;5;28;43mself\u001b[39;49m\u001b[38;5;241;43m.\u001b[39;49m\u001b[43mdesc_set\u001b[49m\u001b[43m,\u001b[49m\u001b[43m \u001b[49m\u001b[43maxis\u001b[49m\u001b[43m \u001b[49m\u001b[38;5;241;43m=\u001b[39;49m\u001b[43m \u001b[49m\u001b[38;5;241;43m1\u001b[39;49m\u001b[43m)\u001b[49m\n\u001b[1;32m    281\u001b[0m     indices_proches \u001b[38;5;241m=\u001b[39m np\u001b[38;5;241m.\u001b[39margsort(distances)\n\u001b[1;32m    282\u001b[0m     indices_k_nearest \u001b[38;5;241m=\u001b[39m indices_proches[:\u001b[38;5;28mself\u001b[39m\u001b[38;5;241m.\u001b[39mk]\n",
      "File \u001b[0;32m<__array_function__ internals>:200\u001b[0m, in \u001b[0;36mnorm\u001b[0;34m(*args, **kwargs)\u001b[0m\n",
      "File \u001b[0;32m~/.local/lib/python3.10/site-packages/numpy/linalg/linalg.py:2496\u001b[0m, in \u001b[0;36mnorm\u001b[0;34m(x, ord, axis, keepdims)\u001b[0m\n\u001b[1;32m   2493\u001b[0m x \u001b[38;5;241m=\u001b[39m asarray(x)\n\u001b[1;32m   2495\u001b[0m \u001b[38;5;28;01mif\u001b[39;00m \u001b[38;5;129;01mnot\u001b[39;00m \u001b[38;5;28missubclass\u001b[39m(x\u001b[38;5;241m.\u001b[39mdtype\u001b[38;5;241m.\u001b[39mtype, (inexact, object_)):\n\u001b[0;32m-> 2496\u001b[0m     x \u001b[38;5;241m=\u001b[39m \u001b[43mx\u001b[49m\u001b[38;5;241;43m.\u001b[39;49m\u001b[43mastype\u001b[49m\u001b[43m(\u001b[49m\u001b[38;5;28;43mfloat\u001b[39;49m\u001b[43m)\u001b[49m\n\u001b[1;32m   2498\u001b[0m \u001b[38;5;66;03m# Immediately handle some default, simple, fast, and common cases.\u001b[39;00m\n\u001b[1;32m   2499\u001b[0m \u001b[38;5;28;01mif\u001b[39;00m axis \u001b[38;5;129;01mis\u001b[39;00m \u001b[38;5;28;01mNone\u001b[39;00m:\n",
      "\u001b[0;31mKeyboardInterrupt\u001b[0m: "
     ]
    }
   ],
   "source": [
    "# Lancer l’analyse complète\n",
    "classif.analyser_classifieur_matrice(clf_knn, X_train, y_train, X_test, y_test, X_full, y_full, n_folds=5,classe_positive=3)"
   ]
  },
  {
   "cell_type": "code",
   "execution_count": 12,
   "id": "02563495",
   "metadata": {},
   "outputs": [],
   "source": [
    "from sklearn.feature_extraction.text import CountVectorizer\n",
    "from sklearn.feature_extraction.text import TfidfVectorizer\n",
    "\n",
    "textes_train_avec_stopwords = [' '.join(mots) for mots in df_avec_stopwords['les_mots']]\n",
    "textes_train_sans_stopwords = [' '.join(mots) for mots in df_sans_stopwords['les_mots']]\n",
    "\n",
    "textes_test_avec_stopwords = [' '.join(mots) for mots in test_avec_stopwords['les_mots']]\n",
    "textes_test_sans_stopwords = [' '.join(mots) for mots in test_sans_stopwords['les_mots']]\n",
    "\n",
    "textes_full_avec_stopwords = [' '.join(mots) for mots in news_avec_stopwords['les_mots']]\n",
    "textes_full_sans_stopwords = [' '.join(mots) for mots in news_sans_stopwords['les_mots']]\n",
    "\n",
    "\n"
   ]
  },
  {
   "cell_type": "code",
   "execution_count": 13,
   "id": "06e88eca-bf64-474c-b6b7-035305883fa5",
   "metadata": {},
   "outputs": [
    {
     "name": "stdout",
     "output_type": "stream",
     "text": [
      "(932, 24509)\n",
      "(17914, 50000)\n",
      "(18846, 50000)\n"
     ]
    }
   ],
   "source": [
    "#bag of words binaire - sans stopwords\n",
    "vect1_sans_binaire = CountVectorizer(binary=True, max_features=50_000)  # version binaire + limite\n",
    "X_train_sans_bin = vect1_sans_binaire.fit_transform(textes_train_sans_stopwords).toarray()\n",
    "print(X_train_sans_bin.shape)  # (nombre de documents, nombre de mots retenus)\n",
    "\n",
    "vect2_sans_binaire = CountVectorizer(binary=True, max_features=50_000)  # version binaire + limite\n",
    "X_test_sans_bin = vect2_sans_binaire.fit_transform(textes_test_sans_stopwords).toarray()\n",
    "print(X_test_sans_bin.shape)  # (nombre de documents, nombre de mots retenus)\n",
    "\n",
    "vect3_sans_binaire = CountVectorizer(binary=True, max_features=50_000)  # version binaire + limite\n",
    "X_full_sans_bin = vect3_sans_binaire.fit_transform(textes_full_sans_stopwords).toarray()\n",
    "print(X_full_sans_bin.shape)  # (nombre de documents, nombre de mots retenus)"
   ]
  },
  {
   "cell_type": "code",
   "execution_count": 14,
   "id": "e4a8a2c7",
   "metadata": {},
   "outputs": [
    {
     "name": "stdout",
     "output_type": "stream",
     "text": [
      "(932, 24611)\n",
      "(17914, 50000)\n",
      "(18846, 50000)\n"
     ]
    }
   ],
   "source": [
    "#bag of words binaire - avec stopwords\n",
    "vect1_avec_binaire = CountVectorizer(binary=True, max_features=50_000)  # version binaire + limite\n",
    "X_train_avec_bin = vect1_avec_binaire.fit_transform(textes_train_avec_stopwords).toarray()\n",
    "print(X_train_avec_bin.shape)  # (nombre de documents, nombre de mots retenus)\n",
    "\n",
    "#bag of words binaire - avec stopwords\n",
    "vect2_avec_binaire = CountVectorizer(binary=True, max_features=50_000)  # version binaire + limite\n",
    "X_test_avec_bin = vect2_avec_binaire.fit_transform(textes_test_avec_stopwords).toarray()\n",
    "print(X_test_avec_bin.shape)  # (nombre de documents, nombre de mots retenus)\n",
    "\n",
    "#bag of words binaire - avec stopwords\n",
    "vect3_avec_binaire = CountVectorizer(binary=True, max_features=50_000)  # version binaire + limite\n",
    "X_full_avec_bin = vect3_avec_binaire.fit_transform(textes_full_avec_stopwords).toarray()\n",
    "print(X_full_avec_bin.shape)  # (nombre de documents, nombre de mots retenus)"
   ]
  },
  {
   "cell_type": "code",
   "execution_count": null,
   "id": "d6a958bd-d6cd-45c3-8f73-a1d7d039d8ae",
   "metadata": {},
   "outputs": [],
   "source": [
    "#bag of words avec comptage - \n",
    "\n",
    "\n",
    "#sans stopwords\n",
    "vect_sans_count = CountVectorizer(max_features=50_000)  # version limite\n",
    "X_sans_count = vect_sans_count.fit_transform(textes_sans_stopwords).toarray()\n",
    "\n",
    "#avec stopwords\n",
    "vect_avec_count = CountVectorizer(max_features=50_000)  # version limite\n",
    "X_avec_count = vect_avec_count.fit_transform(textes_avec_stopwords).toarray()\n",
    "print(X_sans_count)\n",
    "print(X_avec_count)\n"
   ]
  },
  {
   "cell_type": "code",
   "execution_count": null,
   "id": "1d9d17ca",
   "metadata": {},
   "outputs": [],
   "source": [
    "#tf-idf\n",
    "\n",
    "#avec stopwords\n",
    "vect_avec_tfidf = TfidfVectorizer(max_features=50_000)\n",
    "X_avec_tfidf = vect_avec_tfidf.fit_transform(textes_avec_stopwords)\n",
    "\n",
    "#sans stopwords\n",
    "vect_sans_tfidf = TfidfVectorizer(max_features=50_000)\n",
    "X_sans_tfidf = vect_sans_tfidf.fit_transform(textes_sans_stopwords)\n"
   ]
  },
  {
   "cell_type": "code",
   "execution_count": 50,
   "id": "a2aff6ae",
   "metadata": {},
   "outputs": [],
   "source": [
    "y = df_avec_stopwords['target'].values"
   ]
  },
  {
   "cell_type": "code",
   "execution_count": 51,
   "id": "5fb56538",
   "metadata": {},
   "outputs": [
    {
     "name": "stdout",
     "output_type": "stream",
     "text": [
      "▶ Évaluation Binaire (classe 3) en 5 folds...\n",
      "\n",
      "Fold 1 — Accuracy : 0.9251 — Temps : 16.28 s\n"
     ]
    },
    {
     "ename": "KeyboardInterrupt",
     "evalue": "",
     "output_type": "error",
     "traceback": [
      "\u001b[0;31m---------------------------------------------------------------------------\u001b[0m",
      "\u001b[0;31mKeyboardInterrupt\u001b[0m                         Traceback (most recent call last)",
      "Cell \u001b[0;32mIn[51], line 2\u001b[0m\n\u001b[1;32m      1\u001b[0m knn_bin_avec \u001b[38;5;241m=\u001b[39m classif\u001b[38;5;241m.\u001b[39mClassifierKNN(input_dimension\u001b[38;5;241m=\u001b[39mX_avec_count\u001b[38;5;241m.\u001b[39mshape[\u001b[38;5;241m1\u001b[39m], k\u001b[38;5;241m=\u001b[39m\u001b[38;5;241m5\u001b[39m)\n\u001b[0;32m----> 2\u001b[0m \u001b[43mclassif\u001b[49m\u001b[38;5;241;43m.\u001b[39;49m\u001b[43manalyser_classifieur_matrice\u001b[49m\u001b[43m(\u001b[49m\u001b[43mknn_bin_avec\u001b[49m\u001b[43m,\u001b[49m\u001b[43m \u001b[49m\u001b[43mX_avec_count\u001b[49m\u001b[43m,\u001b[49m\u001b[43m \u001b[49m\u001b[43my\u001b[49m\u001b[43m,\u001b[49m\u001b[43m \u001b[49m\u001b[43mclasse_positive\u001b[49m\u001b[38;5;241;43m=\u001b[39;49m\u001b[38;5;241;43m3\u001b[39;49m\u001b[43m)\u001b[49m\n",
      "File \u001b[0;32m~/an3/LU3IN026/Sciences-de-donnees/iads/Classifiers.py:92\u001b[0m, in \u001b[0;36manalyser_classifieur_matrice\u001b[0;34m(clf, X, y, classe_positive, n_folds)\u001b[0m\n\u001b[1;32m     90\u001b[0m elapsed \u001b[38;5;241m=\u001b[39m time\u001b[38;5;241m.\u001b[39mtime() \u001b[38;5;241m-\u001b[39m start\n\u001b[1;32m     91\u001b[0m total_time \u001b[38;5;241m+\u001b[39m\u001b[38;5;241m=\u001b[39m elapsed\n\u001b[0;32m---> 92\u001b[0m acc \u001b[38;5;241m=\u001b[39m \u001b[43mclf\u001b[49m\u001b[38;5;241;43m.\u001b[39;49m\u001b[43maccuracy\u001b[49m\u001b[43m(\u001b[49m\u001b[43mX_test\u001b[49m\u001b[43m,\u001b[49m\u001b[43m \u001b[49m\u001b[43my_test\u001b[49m\u001b[43m)\u001b[49m\n\u001b[1;32m     93\u001b[0m scores\u001b[38;5;241m.\u001b[39mappend(acc)\n\u001b[1;32m     95\u001b[0m cm \u001b[38;5;241m=\u001b[39m confusion_matrix(y_test, y_pred, labels\u001b[38;5;241m=\u001b[39mlabels_display)\n",
      "File \u001b[0;32m~/an3/LU3IN026/Sciences-de-donnees/iads/Classifiers.py:163\u001b[0m, in \u001b[0;36mClassifier.accuracy\u001b[0;34m(self, desc_set, label_set)\u001b[0m\n\u001b[1;32m    161\u001b[0m correct_predictions \u001b[38;5;241m=\u001b[39m \u001b[38;5;241m0\u001b[39m\n\u001b[1;32m    162\u001b[0m \u001b[38;5;28;01mfor\u001b[39;00m i \u001b[38;5;129;01min\u001b[39;00m \u001b[38;5;28mrange\u001b[39m(\u001b[38;5;28mlen\u001b[39m(desc_set)):\n\u001b[0;32m--> 163\u001b[0m     \u001b[38;5;28;01mif\u001b[39;00m \u001b[38;5;28;43mself\u001b[39;49m\u001b[38;5;241;43m.\u001b[39;49m\u001b[43mpredict\u001b[49m\u001b[43m(\u001b[49m\u001b[43mdesc_set\u001b[49m\u001b[43m[\u001b[49m\u001b[43mi\u001b[49m\u001b[43m]\u001b[49m\u001b[43m)\u001b[49m \u001b[38;5;241m==\u001b[39m label_set[i]:\n\u001b[1;32m    164\u001b[0m         correct_predictions \u001b[38;5;241m+\u001b[39m\u001b[38;5;241m=\u001b[39m \u001b[38;5;241m1\u001b[39m\n\u001b[1;32m    165\u001b[0m \u001b[38;5;28;01mreturn\u001b[39;00m correct_predictions \u001b[38;5;241m/\u001b[39m \u001b[38;5;28mlen\u001b[39m(desc_set)\n",
      "File \u001b[0;32m~/an3/LU3IN026/Sciences-de-donnees/iads/Classifiers.py:204\u001b[0m, in \u001b[0;36mClassifierKNN.predict\u001b[0;34m(self, x)\u001b[0m\n\u001b[1;32m    200\u001b[0m \u001b[38;5;28;01mdef\u001b[39;00m \u001b[38;5;21mpredict\u001b[39m(\u001b[38;5;28mself\u001b[39m, x):\n\u001b[1;32m    201\u001b[0m \u001b[38;5;250m    \u001b[39m\u001b[38;5;124;03m\"\"\" rend la prediction sur x (-1 ou +1)\u001b[39;00m\n\u001b[1;32m    202\u001b[0m \u001b[38;5;124;03m        x: une description : un ndarray\u001b[39;00m\n\u001b[1;32m    203\u001b[0m \u001b[38;5;124;03m    \"\"\"\u001b[39;00m\n\u001b[0;32m--> 204\u001b[0m     \u001b[38;5;28;01mif\u001b[39;00m \u001b[38;5;28;43mself\u001b[39;49m\u001b[38;5;241;43m.\u001b[39;49m\u001b[43mscore\u001b[49m\u001b[43m(\u001b[49m\u001b[43mx\u001b[49m\u001b[43m)\u001b[49m\u001b[38;5;241m>\u001b[39m\u001b[38;5;241m=\u001b[39m\u001b[38;5;241m0\u001b[39m:\n\u001b[1;32m    205\u001b[0m         \u001b[38;5;28;01mreturn\u001b[39;00m \u001b[38;5;241m1\u001b[39m\n\u001b[1;32m    206\u001b[0m     \u001b[38;5;28;01mreturn\u001b[39;00m \u001b[38;5;241m-\u001b[39m\u001b[38;5;241m1\u001b[39m\n",
      "File \u001b[0;32m~/an3/LU3IN026/Sciences-de-donnees/iads/Classifiers.py:192\u001b[0m, in \u001b[0;36mClassifierKNN.score\u001b[0;34m(self, x)\u001b[0m\n\u001b[1;32m    188\u001b[0m \u001b[38;5;28;01mdef\u001b[39;00m \u001b[38;5;21mscore\u001b[39m(\u001b[38;5;28mself\u001b[39m,x):\n\u001b[1;32m    189\u001b[0m \u001b[38;5;250m    \u001b[39m\u001b[38;5;124;03m\"\"\" rend la proportion de +1 parmi les k ppv de x (valeur réelle)\u001b[39;00m\n\u001b[1;32m    190\u001b[0m \u001b[38;5;124;03m        x: une description : un ndarray\u001b[39;00m\n\u001b[1;32m    191\u001b[0m \u001b[38;5;124;03m    \"\"\"\u001b[39;00m\n\u001b[0;32m--> 192\u001b[0m     distances \u001b[38;5;241m=\u001b[39m \u001b[43mnp\u001b[49m\u001b[38;5;241;43m.\u001b[39;49m\u001b[43mlinalg\u001b[49m\u001b[38;5;241;43m.\u001b[39;49m\u001b[43mnorm\u001b[49m\u001b[43m(\u001b[49m\u001b[43mx\u001b[49m\u001b[43m \u001b[49m\u001b[38;5;241;43m-\u001b[39;49m\u001b[43m \u001b[49m\u001b[38;5;28;43mself\u001b[39;49m\u001b[38;5;241;43m.\u001b[39;49m\u001b[43mdesc_set\u001b[49m\u001b[43m,\u001b[49m\u001b[43m \u001b[49m\u001b[43maxis\u001b[49m\u001b[43m \u001b[49m\u001b[38;5;241;43m=\u001b[39;49m\u001b[43m \u001b[49m\u001b[38;5;241;43m1\u001b[39;49m\u001b[43m)\u001b[49m\n\u001b[1;32m    193\u001b[0m     indices_proches \u001b[38;5;241m=\u001b[39m np\u001b[38;5;241m.\u001b[39margsort(distances)\n\u001b[1;32m    194\u001b[0m     indices_k_nearest \u001b[38;5;241m=\u001b[39m indices_proches[:\u001b[38;5;28mself\u001b[39m\u001b[38;5;241m.\u001b[39mk]\n",
      "File \u001b[0;32m<__array_function__ internals>:200\u001b[0m, in \u001b[0;36mnorm\u001b[0;34m(*args, **kwargs)\u001b[0m\n",
      "File \u001b[0;32m~/.local/lib/python3.10/site-packages/numpy/linalg/linalg.py:2542\u001b[0m, in \u001b[0;36mnorm\u001b[0;34m(x, ord, axis, keepdims)\u001b[0m\n\u001b[1;32m   2539\u001b[0m \u001b[38;5;28;01melif\u001b[39;00m \u001b[38;5;28mord\u001b[39m \u001b[38;5;129;01mis\u001b[39;00m \u001b[38;5;28;01mNone\u001b[39;00m \u001b[38;5;129;01mor\u001b[39;00m \u001b[38;5;28mord\u001b[39m \u001b[38;5;241m==\u001b[39m \u001b[38;5;241m2\u001b[39m:\n\u001b[1;32m   2540\u001b[0m     \u001b[38;5;66;03m# special case for speedup\u001b[39;00m\n\u001b[1;32m   2541\u001b[0m     s \u001b[38;5;241m=\u001b[39m (x\u001b[38;5;241m.\u001b[39mconj() \u001b[38;5;241m*\u001b[39m x)\u001b[38;5;241m.\u001b[39mreal\n\u001b[0;32m-> 2542\u001b[0m     \u001b[38;5;28;01mreturn\u001b[39;00m sqrt(\u001b[43madd\u001b[49m\u001b[38;5;241;43m.\u001b[39;49m\u001b[43mreduce\u001b[49m\u001b[43m(\u001b[49m\u001b[43ms\u001b[49m\u001b[43m,\u001b[49m\u001b[43m \u001b[49m\u001b[43maxis\u001b[49m\u001b[38;5;241;43m=\u001b[39;49m\u001b[43maxis\u001b[49m\u001b[43m,\u001b[49m\u001b[43m \u001b[49m\u001b[43mkeepdims\u001b[49m\u001b[38;5;241;43m=\u001b[39;49m\u001b[43mkeepdims\u001b[49m\u001b[43m)\u001b[49m)\n\u001b[1;32m   2543\u001b[0m \u001b[38;5;66;03m# None of the str-type keywords for ord ('fro', 'nuc')\u001b[39;00m\n\u001b[1;32m   2544\u001b[0m \u001b[38;5;66;03m# are valid for vectors\u001b[39;00m\n\u001b[1;32m   2545\u001b[0m \u001b[38;5;28;01melif\u001b[39;00m \u001b[38;5;28misinstance\u001b[39m(\u001b[38;5;28mord\u001b[39m, \u001b[38;5;28mstr\u001b[39m):\n",
      "\u001b[0;31mKeyboardInterrupt\u001b[0m: "
     ]
    }
   ],
   "source": [
    "knn_bin_avec = classif.ClassifierKNN(input_dimension=X_avec_count.shape[1], k=5)\n",
    "classif.analyser_classifieur_matrice(knn_bin_avec, X_avec_count, y, classe_positive=3)\n"
   ]
  },
  {
   "cell_type": "code",
   "execution_count": null,
   "id": "806d49fd",
   "metadata": {},
   "outputs": [],
   "source": [
    "knn_bin_sans = classif.ClassifierKNN(input_dimension=X_sans_count.shape[1], k=5)\n",
    "classif.analyser_classifieur_matrice(knn_bin_sans, X_sans_count, y, classe_positive=3)"
   ]
  },
  {
   "cell_type": "code",
   "execution_count": null,
   "id": "391fd9ae",
   "metadata": {},
   "outputs": [],
   "source": [
    "knn_multi_avec = ClassifierKNN(input_dimension=X_avec_count.shape[1], k=5)\n",
    "classif.analyser_classifieur_matrice(knn_multi_avec, X_sans_count, y, classe_positive=3)"
   ]
  },
  {
   "cell_type": "code",
   "execution_count": 45,
   "id": "6b32e129-50fe-42e9-8b33-6db27510d130",
   "metadata": {},
   "outputs": [
    {
     "ename": "NameError",
     "evalue": "name 'X_bin' is not defined",
     "output_type": "error",
     "traceback": [
      "\u001b[0;31m---------------------------------------------------------------------------\u001b[0m",
      "\u001b[0;31mNameError\u001b[0m                                 Traceback (most recent call last)",
      "Cell \u001b[0;32mIn[45], line 11\u001b[0m\n\u001b[1;32m      8\u001b[0m y \u001b[38;5;241m=\u001b[39m newsgroups_df[\u001b[38;5;124m'\u001b[39m\u001b[38;5;124mtarget\u001b[39m\u001b[38;5;124m'\u001b[39m]\u001b[38;5;241m.\u001b[39mvalues\n\u001b[1;32m     10\u001b[0m mask \u001b[38;5;241m=\u001b[39m (y \u001b[38;5;241m==\u001b[39m \u001b[38;5;241m0\u001b[39m) \u001b[38;5;241m|\u001b[39m (y \u001b[38;5;241m==\u001b[39m \u001b[38;5;241m1\u001b[39m)\n\u001b[0;32m---> 11\u001b[0m X_binaire \u001b[38;5;241m=\u001b[39m \u001b[43mX_bin\u001b[49m[mask]\n\u001b[1;32m     12\u001b[0m y_binaire \u001b[38;5;241m=\u001b[39m y[mask]\n\u001b[1;32m     13\u001b[0m y_binaire \u001b[38;5;241m=\u001b[39m np\u001b[38;5;241m.\u001b[39mwhere(y_binaire \u001b[38;5;241m==\u001b[39m \u001b[38;5;241m0\u001b[39m, \u001b[38;5;241m-\u001b[39m\u001b[38;5;241m1\u001b[39m, \u001b[38;5;241m1\u001b[39m)\n",
      "\u001b[0;31mNameError\u001b[0m: name 'X_bin' is not defined"
     ]
    }
   ],
   "source": [
    "from sklearn.model_selection import train_test_split\n",
    "\n",
    "#Perceptron avec bow_binaire et validation croisée\n",
    "\n",
    "# -------------------------------\n",
    "# Étape 1 : Sélection des classes 0 et 1 (binaire)\n",
    "# -------------------------------\n",
    "y = newsgroups_df['target'].values\n",
    "\n",
    "mask = (y == 0) | (y == 1)\n",
    "X_binaire = X_bin[mask]\n",
    "y_binaire = y[mask]\n",
    "y_binaire = np.where(y_binaire == 0, -1, 1)\n",
    "\n",
    "# Conversion en array dense\n",
    "X_binaire = X_binaire.toarray()\n",
    "\n",
    "# -------------------------------\n",
    "# Étape 2 : Création du classifieur Perceptron (non entraîné)\n",
    "# -------------------------------\n",
    "input_dim = X_binaire.shape[1]\n",
    "perceptron = classif.ClassifierPerceptron(input_dimension=input_dim, learning_rate=0.01, init=True)\n",
    "\n",
    "# -------------------------------\n",
    "# Étape 3 : Validation croisée\n",
    "# -------------------------------\n",
    "nb_folds = 5\n",
    "resultats, moyenne, ecart = ev.validation_croisee(perceptron, (X_binaire, y_binaire), nb_folds)\n",
    "\n",
    "# -------------------------------\n",
    "# Étape 4 : Résumé des résultats\n",
    "# -------------------------------\n",
    "print(\"\\n Résultats de la validation croisée :\")\n",
    "for i, acc in enumerate(resultats):\n",
    "    print(f\" - Fold {i+1}: accuracy = {acc:.4f}\")\n",
    "\n",
    "print(f\"\\n Moyenne des accuracies : {moyenne:.4f}\")\n",
    "print(f\" Écart-type : {ecart:.4f}\")\n",
    "\n",
    "\n",
    "#Visualisation\n",
    "plt.plot(range(1, len(resultats)+1), resultats, marker='o', label='Accuracy par fold')\n",
    "plt.axhline(y=moyenne, color='r', linestyle='--', label=f'Moyenne = {moyenne:.4f}')\n",
    "plt.fill_between(range(1, len(resultats)+1),\n",
    "                 moyenne - ecart,\n",
    "                 moyenne + ecart,\n",
    "                 color='red', alpha=0.1, label='± écart-type')\n",
    "plt.title(\"Validation croisée - Perceptron (classes 0 vs 1)\")\n",
    "plt.xlabel(\"Fold\")\n",
    "plt.ylabel(\"Accuracy\")\n",
    "plt.legend()\n",
    "plt.grid(True)\n",
    "plt.show()"
   ]
  },
  {
   "cell_type": "code",
   "execution_count": null,
   "id": "e51db4d4-035c-4b06-a5a1-561d6858bfaa",
   "metadata": {},
   "outputs": [
    {
     "name": "stdout",
     "output_type": "stream",
     "text": [
      "Iteration 0: taille base app.= 1419    taille base test=353    Taux de bonne classif: 0.6798866855524079\n",
      "Iteration 1: taille base app.= 1419    taille base test=353    Taux de bonne classif: 0.6543909348441926\n",
      "Iteration 2: taille base app.= 1419    taille base test=353    Taux de bonne classif: 0.6883852691218131\n"
     ]
    }
   ],
   "source": [
    "# Étape 1 : Filtrer classes 0 et 1\n",
    "mask = (y == 0) | (y == 1)\n",
    "X_knn = X_count[mask]\n",
    "y_knn = y[mask]\n",
    "y_knn = np.where(y_knn == 0, -1, 1)\n",
    "\n",
    "# Étape 2 : Conversion en array dense (nécessaire pour ta classe KNN)\n",
    "X_knn = X_knn.toarray()\n",
    "\n",
    "# Étape 3 : Créer une instance de KNN (k=5 par exemple)\n",
    "knn = classif.ClassifierKNN(input_dimension=X_knn.shape[1], k=5)\n",
    "\n",
    "# Étape 4 : Validation croisée sur 5 folds\n",
    "resultats_knn, moyenne_knn, ecart_knn = ev.validation_croisee(knn, (X_knn, y_knn), 5)\n",
    "\n",
    "# Étape 5 : Affichage des résultats\n",
    "print(\"\\n Résultats de la validation croisée :\")\n",
    "for i, acc in enumerate(resultats_knn):\n",
    "    print(f\" - Fold {i+1}: accuracy = {acc:.4f}\")\n",
    "\n",
    "print(f\"\\n Moyenne des accuracies : {moyenne_knn:.4f}\")\n",
    "print(f\" Écart-type : {ecart_knn:.4f}\")\n",
    "\n",
    "\n",
    "#Visualisation \n",
    "plt.plot(range(1, 6), resultats_knn, marker='o', label='Accuracy par fold')\n",
    "plt.axhline(y=moyenne_knn, color='r', linestyle='--', label=f'Moyenne = {moyenne_knn:.4f}')\n",
    "plt.fill_between(range(1, 6),\n",
    "                 moyenne_knn - ecart_knn,\n",
    "                 moyenne_knn + ecart_knn,\n",
    "                 color='red', alpha=0.1, label='± écart-type')\n",
    "plt.title(\"Validation croisée - KNN (classes 0 vs 1)\")\n",
    "plt.xlabel(\"Fold\")\n",
    "plt.ylabel(\"Accuracy\")\n",
    "plt.legend()\n",
    "plt.grid(True)\n",
    "plt.show()"
   ]
  },
  {
   "cell_type": "markdown",
   "id": "143ad533",
   "metadata": {},
   "source": [
    "### Apprentissage non-supervisé\n",
    "\n",
    "*Tâche*: vérifier que le découpage a du sens par rapport aux groupes fournis. \n",
    "\n",
    "*Etudes suggérées*:\n",
    "- étudier l'application d'un clustering hiérarchique et son résultat;\n",
    "- étudier les résultats de l'application de l'algorithme des k-moyennes, pour différentes valeurs de k;\n",
    "- proposer des évaluations des clusters trouvés afin de mettre en évidence les plus intéressants:\n",
    "    - en utilisant les indices d'évaluation présentés en cours;\n",
    "    - en comparant par diverses méthodes les clusters trouvés avec les vrais labels des classes (targets y).\n",
    "- proposer une visualisation des résultats obtenus\n",
    "\n",
    "\n",
    "   \n"
   ]
  },
  {
   "cell_type": "markdown",
   "id": "7a907d27",
   "metadata": {},
   "source": [
    "## Poster à rendre dans le compte-rendu (format PDF)\n",
    "\n",
    "Votre poster doit décrire de façon synthétique **l'ensemble des expérimentations** menées sur les données, les résultats obtenus en apprentissage supervisé et en apprentissage non-supervisé ainsi que les conclusions/bilans que vous tirez de ces expérimentations (ie. ce que vous avez appris sur ces données).\n",
    "\n",
    "*Remarque*: vous devez indiquer vos noms/prénoms et groupe (1, 2, ou 3) sur le poster.\n"
   ]
  },
  {
   "cell_type": "code",
   "execution_count": null,
   "id": "8873bae2-24cd-4dd3-b89e-887a28f7d6e9",
   "metadata": {},
   "outputs": [],
   "source": []
  },
  {
   "cell_type": "code",
   "execution_count": null,
   "id": "cebaeaec-9792-435f-a1fe-46a9c77c744e",
   "metadata": {},
   "outputs": [],
   "source": []
  }
 ],
 "metadata": {
  "kernelspec": {
   "display_name": "Python 3 (ipykernel)",
   "language": "python",
   "name": "python3"
  },
  "language_info": {
   "codemirror_mode": {
    "name": "ipython",
    "version": 3
   },
   "file_extension": ".py",
   "mimetype": "text/x-python",
   "name": "python",
   "nbconvert_exporter": "python",
   "pygments_lexer": "ipython3",
   "version": "3.10.12"
  }
 },
 "nbformat": 4,
 "nbformat_minor": 5
}
